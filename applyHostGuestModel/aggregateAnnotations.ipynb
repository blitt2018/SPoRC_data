{
 "cells": [
  {
   "cell_type": "code",
   "execution_count": 6,
   "metadata": {},
   "outputs": [],
   "source": [
    "import pandas as pd\n",
    "import numpy as np\n",
    "from collections import Counter"
   ]
  },
  {
   "cell_type": "code",
   "execution_count": 4,
   "metadata": {},
   "outputs": [],
   "source": [
    "inPath = \"/shared/3/projects/benlitterer/podcastData/hostIdentification/hostGuestPredictions/10000LongPredictions.json\"\n",
    "df = pd.read_json(inPath, orient=\"records\", lines=True)"
   ]
  },
  {
   "cell_type": "code",
   "execution_count": 7,
   "metadata": {},
   "outputs": [],
   "source": [
    "def getMode(inList): \n",
    "    if len(inList) == 1: \n",
    "        return inList[0]\n",
    "    \n",
    "    data = Counter(inList)\n",
    "    modeVal, modeCount = data.most_common(1)[0]\n",
    "\n",
    "    #we default to neither if we have a split decision\n",
    "    \n",
    "    if modeCount == 1: \n",
    "        return 2\n",
    "    else: \n",
    "        return modeVal \n",
    "    \n",
    "    return modeVal\n",
    "\n",
    "#here we take the index of the maximum probability prediction \n",
    "#after mean pooling over columns \n",
    "def getConfidenceAggregation(inList): \n",
    "    inList = np.array(inList)\n",
    "    return np.argmax(np.mean(inList, axis=0))\n",
    "\n",
    "#we take in a 2d array of shape n x 3\n",
    "#get the prediction for the row with the highest probability \n",
    "def getMostConfident(inList): \n",
    "\n",
    "    maxVal = 0 \n",
    "    maxValIx = 2\n",
    "    for row in inList: \n",
    "        for colNum, item in enumerate(row): \n",
    "\n",
    "            #if we have a new highest value, update \n",
    "            #note that maxValIx is just our prediction of 0, 1, or 2\n",
    "            if item > maxVal: \n",
    "                maxVal = item \n",
    "                maxValIx = colNum\n",
    "    return maxValIx\n",
    "\n",
    "aggDf = df[[\"potentialOutPath\", \"ent\", \"pred\", \"prob\"]].groupby([\"potentialOutPath\", \"ent\"]).agg(list)\n",
    "aggDf[\"modalPred\"] = aggDf[\"pred\"].apply(getMode)\n",
    "aggDf[\"confPred\"] = aggDf[\"prob\"].apply(getMostConfident)\n",
    "aggDf[\"meanAggPred\"] = aggDf[\"prob\"].apply(getConfidenceAggregation)\n"
   ]
  },
  {
   "cell_type": "code",
   "execution_count": 8,
   "metadata": {},
   "outputs": [],
   "source": [
    "aggArr = aggDf[[\"modalPred\", \"confPred\", \"meanAggPred\"]].T.values.tolist()"
   ]
  },
  {
   "cell_type": "code",
   "execution_count": 9,
   "metadata": {},
   "outputs": [
    {
     "data": {
      "text/plain": [
       "array([[1.        , 0.96811818, 0.9708293 ],\n",
       "       [0.96811818, 1.        , 0.99684888],\n",
       "       [0.9708293 , 0.99684888, 1.        ]])"
      ]
     },
     "execution_count": 9,
     "metadata": {},
     "output_type": "execute_result"
    }
   ],
   "source": [
    "np.corrcoef(aggArr)"
   ]
  },
  {
   "cell_type": "code",
   "execution_count": 13,
   "metadata": {},
   "outputs": [],
   "source": [
    "#aggDf[\"numPreds\"] = aggDf[\"pred\"].apply(len)"
   ]
  },
  {
   "cell_type": "code",
   "execution_count": 14,
   "metadata": {},
   "outputs": [
    {
     "data": {
      "text/plain": [
       "numPreds\n",
       "1    6917\n",
       "2    1013\n",
       "3     182\n",
       "4      47\n",
       "5      18\n",
       "6       7\n",
       "7       4\n",
       "9       1\n",
       "8       1\n",
       "Name: count, dtype: int64"
      ]
     },
     "execution_count": 14,
     "metadata": {},
     "output_type": "execute_result"
    }
   ],
   "source": [
    "#roughly 1/6th of entities have 2 predictions to use \n",
    "#aggDf[\"numPreds\"].value_counts()"
   ]
  },
  {
   "cell_type": "code",
   "execution_count": 11,
   "metadata": {},
   "outputs": [],
   "source": [
    "outPath = \"/shared/3/projects/benlitterer/podcastData/hostIdentification/hostGuestPredictions/10000AggPredictions.json\"\n",
    "aggDf.to_json(outPath, orient=\"records\", lines=True)"
   ]
  },
  {
   "cell_type": "code",
   "execution_count": null,
   "metadata": {},
   "outputs": [],
   "source": []
  }
 ],
 "metadata": {
  "kernelspec": {
   "display_name": "Python 3 (ipykernel)",
   "language": "python",
   "name": "python3"
  },
  "language_info": {
   "codemirror_mode": {
    "name": "ipython",
    "version": 3
   },
   "file_extension": ".py",
   "mimetype": "text/x-python",
   "name": "python",
   "nbconvert_exporter": "python",
   "pygments_lexer": "ipython3",
   "version": "3.9.12"
  }
 },
 "nbformat": 4,
 "nbformat_minor": 2
}
